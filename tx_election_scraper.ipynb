{
 "cells": [
  {
   "cell_type": "code",
   "execution_count": null,
   "metadata": {},
   "outputs": [],
   "source": [
    "import requests\n",
    "import json\n",
    "import pandas as pd"
   ]
  },
  {
   "cell_type": "code",
   "execution_count": null,
   "metadata": {},
   "outputs": [],
   "source": [
    "headers =  {'User-Agent': 'Mozilla/5.0 (Macintosh; Intel Mac OS X 10_10_1) AppleWebKit/537.36 (KHTML, like Gecko) Chrome/39.0.2171.95 Safari/537.36'}\n",
    "with open('results.txt') as f:\n",
    "    lines = f.readlines()\n",
    "start = int(lines[0])\n",
    "for i in range(start, 500):\n",
    "    try:\n",
    "        results = requests.get(f'https://results.texas-election.com/static/data/election/47009/{i}/County.json', headers=headers).json()\n",
    "    except:\n",
    "        results = requests.get(f'https://results.texas-election.com/static/data/election/47009/{i-1}/County.json', headers=headers).json()\n",
    "        with open('results.txt', 'w') as f:\n",
    "            f.write(str(i-1))\n",
    "        break\n"
   ]
  },
  {
   "cell_type": "code",
   "execution_count": null,
   "metadata": {},
   "outputs": [],
   "source": [
    "ds = []\n",
    "for i in results.keys():\n",
    "    d = {}\n",
    "    d['county'] = results[f'{i}']['N'] #County Name\n",
    "    d['total_voters'] = results[f'{i}']['TV'] \n",
    "    d['per_reporting'] = results[f'{i}']['Races']['1004']['T'] / results[f'{i}']['TV']\n",
    "    d['per_left'] = results[f'{i}']['TV'] - results[f'{i}']['Races']['1004']['T']\n",
    "    d['orourke'] = results[f'{i}']['Races']['1004']['C']['331257']['V']\n",
    "    d['per_orourke'] = results[f'{i}']['Races']['1004']['C']['331257']['PE']\n",
    "    d['abbott'] = results[f'{i}']['Races']['1004']['C']['331306']['V'] \n",
    "    d['per_abbott'] = results[f'{i}']['Races']['1004']['C']['331306']['PE']\n",
    "    ds.append(d)\n",
    "ds"
   ]
  },
  {
   "cell_type": "code",
   "execution_count": null,
   "metadata": {},
   "outputs": [],
   "source": [
    "df = pd.DataFrame(ds)\n",
    "\n",
    "winning = []\n",
    "margin = []\n",
    "called = []\n",
    "\n",
    "for i in range(0, len(df)):\n",
    "    if df['orourke'][i] > df['abbott'][i]:\n",
    "        winning.append('orourke')\n",
    "        margin.append(df['orourke'][i] - df['abbott'][i])\n",
    "    elif df['orourke'][i] == df['abbott'][i]:\n",
    "        winning.append('tie')\n",
    "        margin.append(0)\n",
    "    else:\n",
    "        winning.append('abbott')\n",
    "        margin.append(df['abbott'][i]-df['orourke'][i])\n",
    "\n",
    "df['winning'] = winning\n",
    "df['margin'] = margin\n",
    "\n",
    "for i in range(0, len(df)):\n",
    "    if df['margin'][i] > df['per_left'][i]:\n",
    "        called.append('yes')\n",
    "    else:\n",
    "        called.append('no')\n",
    "        \n",
    "df['called'] = called\n",
    "\n",
    "df.to_csv('tx_election.csv', index=False)"
   ]
  }
 ],
 "metadata": {
  "kernelspec": {
   "display_name": "Python 3.10.6 64-bit",
   "language": "python",
   "name": "python3"
  },
  "language_info": {
   "codemirror_mode": {
    "name": "ipython",
    "version": 3
   },
   "file_extension": ".py",
   "mimetype": "text/x-python",
   "name": "python",
   "nbconvert_exporter": "python",
   "pygments_lexer": "ipython3",
   "version": "3.10.6"
  },
  "orig_nbformat": 4,
  "vscode": {
   "interpreter": {
    "hash": "b0fa6594d8f4cbf19f97940f81e996739fb7646882a419484c72d19e05852a7e"
   }
  }
 },
 "nbformat": 4,
 "nbformat_minor": 2
}
